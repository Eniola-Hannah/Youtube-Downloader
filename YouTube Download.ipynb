{
 "cells": [
  {
   "cell_type": "code",
   "execution_count": 2,
   "id": "be79d03c",
   "metadata": {},
   "outputs": [],
   "source": [
    "import pytube"
   ]
  },
  {
   "cell_type": "code",
   "execution_count": 7,
   "id": "fe351c57",
   "metadata": {},
   "outputs": [
    {
     "name": "stdout",
     "output_type": "stream",
     "text": [
      "Enter url: https://youtu.be/7cmvVf81LpQ?si=mHf8bCzIKGamstsH\n",
      "Downloaded!!!\n"
     ]
    }
   ],
   "source": [
    "# Asking the user to put in the url of youtube\n",
    "video_url = input(\"Enter url: \")\n",
    "\n",
    "# Creating an instance of the youtube video\n",
    "video_instance = pytube.YouTube(video_url)\n",
    "\n",
    "# Getting the highest resolution stream\n",
    "stream = video_instance.streams.get_highest_resolution()\n",
    "\n",
    "# Download!!!\n",
    "stream.download()\n",
    "print(\"Downloaded!!!\")"
   ]
  }
 ],
 "metadata": {
  "kernelspec": {
   "display_name": "Python 3",
   "language": "python",
   "name": "python3"
  },
  "language_info": {
   "codemirror_mode": {
    "name": "ipython",
    "version": 3
   },
   "file_extension": ".py",
   "mimetype": "text/x-python",
   "name": "python",
   "nbconvert_exporter": "python",
   "pygments_lexer": "ipython3",
   "version": "3.8.8"
  }
 },
 "nbformat": 4,
 "nbformat_minor": 5
}
